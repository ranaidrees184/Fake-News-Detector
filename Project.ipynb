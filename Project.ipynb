{
 "cells": [
  {
   "cell_type": "markdown",
   "id": "2bfa3127-9ec4-4f60-8d8e-8cfeb9041d9a",
   "metadata": {},
   "source": [
    "# Data Preparation"
   ]
  },
  {
   "cell_type": "code",
   "execution_count": 1,
   "id": "e1f7056e-fd8e-4c4c-96c3-10701b3b942b",
   "metadata": {},
   "outputs": [],
   "source": [
    "import numpy as np\n",
    "import pandas as pd"
   ]
  },
  {
   "cell_type": "markdown",
   "id": "e5b3d297-2fca-4bcc-b1a7-d864ca4bfdfe",
   "metadata": {},
   "source": [
    "# Data Training"
   ]
  },
  {
   "cell_type": "code",
   "execution_count": 3,
   "id": "1068d061-a575-4fb4-b0d9-1db1dfbc34af",
   "metadata": {},
   "outputs": [],
   "source": [
    "def calculate_class_probabilities(train_data):\n",
    "    class_probabilities = {}\n",
    "    word_counts = {}\n",
    "    total_count = 0\n",
    "\n",
    "    for index, row in train_data.iterrows():\n",
    "        # Access data in the 'text' and 'label' columns\n",
    "        text = row['Text']\n",
    "        label = row['label']\n",
    "        words = text.split()\n",
    "\n",
    "        # Update class count\n",
    "        class_probabilities[label] = class_probabilities.get(label, 0) + 1\n",
    "\n",
    "        # Update word counts\n",
    "        for word in words:\n",
    "            if word not in word_counts:\n",
    "                word_counts[word] = {label: 0}\n",
    "            word_counts[word][label] = word_counts[word].get(label, 0) + 1\n",
    "            total_count += 1\n",
    "\n",
    "    # Calculate class probabilities\n",
    "    total_docs = sum(class_probabilities.values())\n",
    "    for label in class_probabilities:\n",
    "        class_probabilities[label] /= total_docs\n",
    "\n",
    "    # Calculate word probabilities\n",
    "    for word in word_counts:\n",
    "        for label in word_counts[word]:\n",
    "            word_counts[word][label] /= total_count\n",
    "    #print(class_probabilities)\n",
    "    return class_probabilities, word_counts\n"
   ]
  },
  {
   "cell_type": "markdown",
   "id": "1e7c7126-a8f5-4982-95ca-e15f243c779d",
   "metadata": {},
   "source": [
    "# Prediction "
   ]
  },
  {
   "cell_type": "code",
   "execution_count": 17,
   "id": "c3f642e3-c218-4544-a839-fca754f28393",
   "metadata": {},
   "outputs": [],
   "source": [
    "def predict(class_probabilities, word_counts, text):\n",
    "    words = text.split()\n",
    "    scores = {label: 0 for label in class_probabilities}\n",
    "    for label in scores:\n",
    "        scores[label] = class_probabilities[label]\n",
    "        for word in words:\n",
    "            if word in word_counts:\n",
    "                scores[label] *= word_counts[word].get(label, 0)\n",
    "                \n",
    "    return max(scores, key=scores.get)\n"
   ]
  },
  {
   "cell_type": "markdown",
   "id": "f704f5a8-f130-488b-a5ef-0e6fa4cbc184",
   "metadata": {},
   "source": [
    "# Evaluation"
   ]
  },
  {
   "cell_type": "code",
   "execution_count": 12,
   "id": "69dda5bc-6a43-4f7d-8b9a-3b980581b041",
   "metadata": {},
   "outputs": [],
   "source": [
    "def evaluate(test_data, class_probabilities, word_counts):\n",
    "    correct_predictions = 0\n",
    "    total_predictions = len(test_data)\n",
    "    true_positive = false_positive = true_negative = false_negative = 0\n",
    "    count=0\n",
    "    for index, row in test_data.iterrows():\n",
    "        # Access data in the 'text' and 'label' columns\n",
    "        count+=1\n",
    "        text = row['Text']\n",
    "        label = row['label']\n",
    "        words = text.split()\n",
    "        predicted_label = predict(class_probabilities, word_counts, text)\n",
    "        \n",
    "\n",
    "        if predicted_label == label:\n",
    "            correct_predictions += 1\n",
    "\n",
    "        if predicted_label == \"Real\" and label == \"Real\":\n",
    "            true_positive += 1\n",
    "        elif predicted_label == \"Real\" and label == \"Fake\":\n",
    "            false_positive += 1\n",
    "        elif predicted_label == \"Fake\" and label == \"Fake\":\n",
    "            true_negative += 1\n",
    "        elif predicted_label == \"Fake\" and label == \"Real\":\n",
    "            false_negative += 1\n",
    "\n",
    "    #print(correct_predictions)\n",
    "    #print(len(test_data))\n",
    "    #print(true_positive)\n",
    "    #print(false_positive)\n",
    "    #print(false_negative)\n",
    "    #print(true_negative )\n",
    "    accuracy = correct_predictions / len(test_data)\n",
    "    precision = true_positive / (true_positive + false_positive) \n",
    "    sensitivity = true_positive / (true_positive + false_negative) \n",
    "    specificity = true_negative / (true_negative + false_positive) \n",
    "\n",
    "    return accuracy, precision, sensitivity, specificity"
   ]
  },
  {
   "cell_type": "code",
   "execution_count": 19,
   "id": "bdb05dfe-77c7-4cc6-aea8-26dd37acc700",
   "metadata": {},
   "outputs": [
    {
     "name": "stdout",
     "output_type": "stream",
     "text": [
      "Accuracy: 0.5498316498316498\n",
      "Precision: 1.0\n",
      "Sensitivity (Recall): 0.10508701472556894\n",
      "Specificity: 1.0\n"
     ]
    }
   ],
   "source": [
    "# Load data\n",
    "#data = np.genfromtxt('fake_and_real_news.csv', delimiter=',', skip_header=1, dtype=str, encoding='utf-8')\n",
    "data = pd.read_csv('fake_and_real_news.csv')\n",
    "#split_index = int(len(dataset) * split_ratio)\n",
    "split_index=int(70/100*len(data))\n",
    "train_data = data[:split_index]\n",
    "#print(train_data)\n",
    "test_data = data[split_index:]\n",
    "\n",
    "# Train model\n",
    "class_probabilities, word_counts = calculate_class_probabilities(train_data)\n",
    "\n",
    "# Evaluate model\n",
    "accuracy, precision, sensitivity, specificity = evaluate(test_data, class_probabilities, word_counts)\n",
    "\n",
    "print(\"Accuracy:\", accuracy)\n",
    "print(\"Precision:\", precision)\n",
    "print(\"Sensitivity (Recall):\", sensitivity)\n",
    "print(\"Specificity:\", specificity)"
   ]
  },
  {
   "cell_type": "code",
   "execution_count": null,
   "id": "75aabead-d8a3-4bbd-92fd-6b7ac2cc0d4e",
   "metadata": {},
   "outputs": [],
   "source": []
  }
 ],
 "metadata": {
  "kernelspec": {
   "display_name": "Python 3 (ipykernel)",
   "language": "python",
   "name": "python3"
  },
  "language_info": {
   "codemirror_mode": {
    "name": "ipython",
    "version": 3
   },
   "file_extension": ".py",
   "mimetype": "text/x-python",
   "name": "python",
   "nbconvert_exporter": "python",
   "pygments_lexer": "ipython3",
   "version": "3.9.13"
  }
 },
 "nbformat": 4,
 "nbformat_minor": 5
}
